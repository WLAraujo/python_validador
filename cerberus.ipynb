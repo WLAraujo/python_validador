{
 "cells": [
  {
   "cell_type": "markdown",
   "metadata": {},
   "source": [
    "# Cerberus\n",
    "\n",
    "The watch-dog of Hades, whose duty it was to guard the entrance; everybody, sooner or later, had to go there, and nobody wanted to carry off the entrance.\n",
    "\n",
    "Cerberus provides powerful yet simple and lightweight data validation functionality out of the box and is designed to be easily extensible, allowing for custom validation."
   ]
  },
  {
   "cell_type": "code",
   "execution_count": 152,
   "metadata": {},
   "outputs": [],
   "source": [
    "# Importando o cerberus e pandas\n",
    "from cerberus import Validator\n",
    "import pandas as pd\n",
    "import copy\n",
    "import numpy as np"
   ]
  },
  {
   "cell_type": "markdown",
   "metadata": {},
   "source": [
    "O `df_certo` é o df em que todas as validações devem passar. Já o `df_errado` é o df em que teremos problemas em alguns testes. Mas, o Cerberus trabalha com dados em formato de dicionário, então vamos transformar os dois dataframes no `json_certo` e no `json_errado`.\n",
    " \n",
    "Lista de validações que realizaremos:\n",
    "1. Verificar se `id_compra` é único\n",
    "2. Verificar se todas as datas em `data` está corretas\n",
    "3. Verificar se `ano_mes_id` está coerente com `data`\n",
    "4. Verificar se `ano` está coerente com `data`\n",
    "5. Verificar se `mes` está coerente com `data`\n",
    "6. Verificar se `dia` está coerente com `data`\n",
    "7. Verificar se o valor `total` é a soma de `valor` e `frete`\n",
    "8. Verificar se o `produto` faz parte do catálogo\n",
    "9. Verificar se os tipos de cada coluna estão coerentes"
   ]
  },
  {
   "cell_type": "code",
   "execution_count": 139,
   "metadata": {},
   "outputs": [],
   "source": [
    "# Importando os dados\n",
    "df_certo = pd.read_excel(\"exemplo_validacao_certo.xlsx\", usecols = \"A:K\")\n",
    "df_errado = df_certo.copy(deep=True)\n",
    "json_certo = df_certo.to_dict(orient='list')\n",
    "json_errado = df_errado.to_dict(orient='list')"
   ]
  },
  {
   "cell_type": "code",
   "execution_count": 161,
   "metadata": {},
   "outputs": [],
   "source": [
    "# Criando estrutura de validação e validador\n",
    "schema = {  'usuario': {'type': ['string', 'list'], 'required': True},\n",
    "            'id_compra': {'type': ['integer', 'list'], 'required': True},\n",
    "            'data': {'type': ['date', 'list'], 'required': True, 'check_with' : _check_ano_mes_dia},\n",
    "            'ano_mes_id' : {'type': ['integer', 'list'], 'required': True},\n",
    "            'ano' : {'type': ['integer', 'list'], 'required': True},\n",
    "            'mes' : {'type': ['integer', 'list'], 'required': True},\n",
    "            'dia' : {'type': ['integer', 'list'], 'required': True},\n",
    "            'produto' : {'type': ['string', 'list'], 'required': True, 'allowed': [\"capinha\",\"tablet\",\"pelicula\",\n",
    "                                                                                    \"cabo\",\"celular\", \"mouse\", \"teclado\",\n",
    "                                                                                    \"computador\",\"fone\",\"monitor\"]},\n",
    "            'valor' : {'type': ['float', 'list'], 'required': True},\n",
    "            'frete' : {'type': ['float', 'list'], 'required': True},\n",
    "            'total' : {'type': ['float', 'list'], 'required': True, 'check_with' :_check_valor_total}\n",
    "            }\n",
    "validador = Validator(schema)"
   ]
  },
  {
   "cell_type": "code",
   "execution_count": 162,
   "metadata": {},
   "outputs": [
    {
     "data": {
      "text/plain": [
       "True"
      ]
     },
     "execution_count": 162,
     "metadata": {},
     "output_type": "execute_result"
    }
   ],
   "source": [
    "# Verificando a planilha correta\n",
    "validador.validate(json_certo)"
   ]
  },
  {
   "cell_type": "code",
   "execution_count": 129,
   "metadata": {},
   "outputs": [
    {
     "name": "stdout",
     "output_type": "stream",
     "text": [
      "{}\n"
     ]
    }
   ],
   "source": [
    "# Comando para verificar erros\n",
    "print(validador.errors)"
   ]
  },
  {
   "cell_type": "code",
   "execution_count": 131,
   "metadata": {},
   "outputs": [
    {
     "name": "stdout",
     "output_type": "stream",
     "text": [
      "{'usuario': ['required field']}\n"
     ]
    }
   ],
   "source": [
    "# Removendo coluna do df_errado\n",
    "del json_errado['usuario']\n",
    "validador.validate(json_errado)\n",
    "# Verificando erros identificados\n",
    "print(validador.errors)\n",
    "# Resetando o json\n",
    "json_errado = copy.deepcopy(json_certo)"
   ]
  },
  {
   "cell_type": "code",
   "execution_count": 132,
   "metadata": {},
   "outputs": [
    {
     "name": "stdout",
     "output_type": "stream",
     "text": [
      "{'produto': [\"unallowed values ('caneta',)\"]}\n"
     ]
    }
   ],
   "source": [
    "# Inserindo produto não catalogado\n",
    "json_errado['produto'][15] = 'caneta'\n",
    "validador.validate(json_errado)\n",
    "# Verificando erros identificados\n",
    "print(validador.errors)\n",
    "# Resetando o json\n",
    "json_errado = copy.deepcopy(json_certo)"
   ]
  },
  {
   "cell_type": "markdown",
   "metadata": {},
   "source": [
    "O cerberus não parece possuir uma forma de validar valores únicos numa coluna. Podemos usar o validador de JSON no lugar."
   ]
  },
  {
   "cell_type": "code",
   "execution_count": 133,
   "metadata": {},
   "outputs": [
    {
     "name": "stdout",
     "output_type": "stream",
     "text": [
      "[1, 1, 3, 4, 5, 6, 7, 8, 9, 10, 11, 12, 13, 14, 15, 16, 17, 18, 19, 20, 21, 22, 23, 24, 25, 26, 27, 28, 29, 30, 31, 32, 33, 34, 35, 36, 37, 38, 39, 40, 41, 42, 43, 44, 45, 46, 47, 48, 49, 50] is not of type 'integer'\n",
      "\n",
      "Failed validating 'type' in schema:\n",
      "    {'type': 'integer', 'uniqueItems': True}\n",
      "\n",
      "On instance:\n",
      "    [1,\n",
      "     1,\n",
      "     3,\n",
      "     4,\n",
      "     5,\n",
      "     6,\n",
      "     7,\n",
      "     8,\n",
      "     9,\n",
      "     10,\n",
      "     11,\n",
      "     12,\n",
      "     13,\n",
      "     14,\n",
      "     15,\n",
      "     16,\n",
      "     17,\n",
      "     18,\n",
      "     19,\n",
      "     20,\n",
      "     21,\n",
      "     22,\n",
      "     23,\n",
      "     24,\n",
      "     25,\n",
      "     26,\n",
      "     27,\n",
      "     28,\n",
      "     29,\n",
      "     30,\n",
      "     31,\n",
      "     32,\n",
      "     33,\n",
      "     34,\n",
      "     35,\n",
      "     36,\n",
      "     37,\n",
      "     38,\n",
      "     39,\n",
      "     40,\n",
      "     41,\n",
      "     42,\n",
      "     43,\n",
      "     44,\n",
      "     45,\n",
      "     46,\n",
      "     47,\n",
      "     48,\n",
      "     49,\n",
      "     50]\n"
     ]
    }
   ],
   "source": [
    "# Importando validador\n",
    "from jsonschema import validate\n",
    "# Criando validação\n",
    "schema_unique = { \"type\": \"integer\", \"uniqueItems\": True}\n",
    "# Inserindo erro\n",
    "json_errado['id_compra'][0] = 1\n",
    "json_errado['id_compra'][1] = 1\n",
    "# Validando erro\n",
    "try:\n",
    "    validate(instance = json_errado['id_compra'], schema = schema_unique)\n",
    "except Exception as e:\n",
    "    print(e)\n",
    "# Resetando json\n",
    "json_errado = copy.deepcopy(json_certo)"
   ]
  },
  {
   "cell_type": "code",
   "execution_count": 126,
   "metadata": {},
   "outputs": [],
   "source": [
    "# Definindo função para checar se ano, mes e dia estão coerentes\n",
    "def _check_ano_mes_dia(field, value, error):\n",
    "    if [linha.year for linha in value] != json_errado['ano']:\n",
    "        error(field, 'Ano não bate')\n",
    "    if [linha.month for linha in value] != json_errado['mes']:\n",
    "        error(field, 'Mês não bate')\n",
    "    if [linha.day for linha in value] != json_errado['dia']:\n",
    "        error(field, 'Dia não bate')"
   ]
  },
  {
   "cell_type": "code",
   "execution_count": 134,
   "metadata": {},
   "outputs": [
    {
     "name": "stdout",
     "output_type": "stream",
     "text": [
      "{'data': ['Ano não bate']}\n"
     ]
    }
   ],
   "source": [
    "# Causando erro de ano\n",
    "json_errado['ano'][41] = 2021\n",
    "# Validando erro\n",
    "validador.validate(json_errado)\n",
    "print(validador.errors)\n",
    "# Resetando json\n",
    "json_errado = copy.deepcopy(json_certo)"
   ]
  },
  {
   "cell_type": "code",
   "execution_count": 160,
   "metadata": {},
   "outputs": [],
   "source": [
    "# Definindo função que certifica valor total\n",
    "def _check_valor_total(field, value, error):\n",
    "    if value != [x + y for x, y in zip(json_errado['valor'], json_errado['frete'])]:\n",
    "        error(field, 'Valor total errado, possível erro nos valores de frete ou valor do produto')"
   ]
  },
  {
   "cell_type": "code",
   "execution_count": 163,
   "metadata": {},
   "outputs": [
    {
     "name": "stdout",
     "output_type": "stream",
     "text": [
      "{'total': ['Valor total errado, possível erro nos valores de frete ou valor do produto']}\n"
     ]
    }
   ],
   "source": [
    "# Causando erro de valores\n",
    "json_errado['total'][34] = 0.00\n",
    "# Validando erro\n",
    "validador.validate(json_errado)\n",
    "print(validador.errors)\n",
    "# Resetando json\n",
    "json_errado = copy.deepcopy(json_certo)"
   ]
  }
 ],
 "metadata": {
  "interpreter": {
   "hash": "916dbcbb3f70747c44a77c7bcd40155683ae19c65e1c03b4aa3499c5328201f1"
  },
  "kernelspec": {
   "display_name": "Python 3.8.10 64-bit",
   "language": "python",
   "name": "python3"
  },
  "language_info": {
   "codemirror_mode": {
    "name": "ipython",
    "version": 3
   },
   "file_extension": ".py",
   "mimetype": "text/x-python",
   "name": "python",
   "nbconvert_exporter": "python",
   "pygments_lexer": "ipython3",
   "version": "3.8.10"
  },
  "orig_nbformat": 4
 },
 "nbformat": 4,
 "nbformat_minor": 2
}
