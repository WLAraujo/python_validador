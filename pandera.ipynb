{
 "cells": [
  {
   "cell_type": "markdown",
   "metadata": {},
   "source": [
    "# Pandera\n",
    "\n",
    "Pandera provides a flexible and expressive API for performing data validation on dataframes to make data processing pipelines more readable and robust. Dataframes contain information that pandera explicitly validates at runtime. This is useful in production-critical data pipelines or reproducible research settings."
   ]
  },
  {
   "cell_type": "code",
   "execution_count": 37,
   "metadata": {},
   "outputs": [],
   "source": [
    "# Importando o Pandas e Pandera\n",
    "import pandas as pd\n",
    "import pandera as pa\n",
    "# Omitir alguns warnings\n",
    "pd.options.mode.chained_assignment = None"
   ]
  },
  {
   "cell_type": "code",
   "execution_count": 24,
   "metadata": {},
   "outputs": [],
   "source": [
    "# Criando dataframes com base nas tabelas\n",
    "df_certo = pd.read_excel(\"exemplo_validacao_certo.xlsx\", usecols = \"A:K\")\n",
    "df_errado = df_certo.copy(deep=True)"
   ]
  },
  {
   "cell_type": "markdown",
   "metadata": {},
   "source": [
    "O `df_certo` é o df em que todas as validações devem passar. Já o `df_errado` é o df em que teremos problemas em alguns testes. \n",
    "\n",
    "Lista de validações que realizaremos:\n",
    "1. Verificar se `id_compra` é único\n",
    "2. Verificar se todas as datas em `data` está corretas\n",
    "3. Verificar se `ano_mes_id` está coerente com `data`\n",
    "4. Verificar se `ano` está coerente com `data`\n",
    "5. Verificar se `mes` está coerente com `data`\n",
    "6. Verificar se `dia` está coerente com `data`\n",
    "7. Verificar se o valor `total` é a soma de `valor` e `frete`\n",
    "8. Verificar se o `produto` faz parte do catálogo\n",
    "9. Verificar se os tipos de cada coluna estão coerentes"
   ]
  },
  {
   "cell_type": "code",
   "execution_count": 57,
   "metadata": {},
   "outputs": [],
   "source": [
    "# Definindo Schema para verificar validações\n",
    "schema = pa.DataFrameSchema(\n",
    "    checks = [pa.Check(lambda df : df[\"total\"] == df[\"valor\"] + df[\"frete\"], name = \"Valor total está errado\")],\n",
    "    columns = {\n",
    "        \"usuario\": pa.Column(pa.String, allow_duplicates = True, required = True),\n",
    "        \"id_compra\": pa.Column(pa.Int, allow_duplicates = False, required = True),\n",
    "        \"data\": pa.Column(pa.DateTime, allow_duplicates=True, required = True),\n",
    "        \"ano_mes_id\": pa.Column(pa.Int, allow_duplicates=True, required = True),\n",
    "        \"ano\": pa.Column(pa.Int, allow_duplicates=True, required = True),\n",
    "        \"mes\": pa.Column(pa.Int, allow_duplicates=True, required = True),\n",
    "        \"dia\": pa.Column(pa.Int, allow_duplicates=True, required = True),\n",
    "        \"produto\": pa.Column(pa.String, allow_duplicates=True, required = True),\n",
    "        \"valor\": pa.Column(pa.Float, allow_duplicates=True, required = True),\n",
    "        \"frete\": pa.Column(pa.Float, allow_duplicates=True, required = True),\n",
    "        \"total\": pa.Column(pa.Float, allow_duplicates=True, required = True)\n",
    "})"
   ]
  },
  {
   "cell_type": "code",
   "execution_count": 58,
   "metadata": {},
   "outputs": [
    {
     "data": {
      "text/html": [
       "<div>\n",
       "<style scoped>\n",
       "    .dataframe tbody tr th:only-of-type {\n",
       "        vertical-align: middle;\n",
       "    }\n",
       "\n",
       "    .dataframe tbody tr th {\n",
       "        vertical-align: top;\n",
       "    }\n",
       "\n",
       "    .dataframe thead th {\n",
       "        text-align: right;\n",
       "    }\n",
       "</style>\n",
       "<table border=\"1\" class=\"dataframe\">\n",
       "  <thead>\n",
       "    <tr style=\"text-align: right;\">\n",
       "      <th></th>\n",
       "      <th>usuario</th>\n",
       "      <th>id_compra</th>\n",
       "      <th>data</th>\n",
       "      <th>ano_mes_id</th>\n",
       "      <th>ano</th>\n",
       "      <th>mes</th>\n",
       "      <th>dia</th>\n",
       "      <th>produto</th>\n",
       "      <th>valor</th>\n",
       "      <th>frete</th>\n",
       "      <th>total</th>\n",
       "    </tr>\n",
       "  </thead>\n",
       "  <tbody>\n",
       "    <tr>\n",
       "      <th>0</th>\n",
       "      <td>Sergio</td>\n",
       "      <td>1</td>\n",
       "      <td>2022-01-12</td>\n",
       "      <td>202201</td>\n",
       "      <td>2022</td>\n",
       "      <td>1</td>\n",
       "      <td>12</td>\n",
       "      <td>capinha</td>\n",
       "      <td>4.463521</td>\n",
       "      <td>6.784318</td>\n",
       "      <td>11.247839</td>\n",
       "    </tr>\n",
       "    <tr>\n",
       "      <th>1</th>\n",
       "      <td>João</td>\n",
       "      <td>2</td>\n",
       "      <td>2022-01-26</td>\n",
       "      <td>202201</td>\n",
       "      <td>2022</td>\n",
       "      <td>1</td>\n",
       "      <td>26</td>\n",
       "      <td>mouse</td>\n",
       "      <td>1172.596978</td>\n",
       "      <td>10.877619</td>\n",
       "      <td>1183.474597</td>\n",
       "    </tr>\n",
       "    <tr>\n",
       "      <th>2</th>\n",
       "      <td>Paulo</td>\n",
       "      <td>3</td>\n",
       "      <td>2022-01-17</td>\n",
       "      <td>202201</td>\n",
       "      <td>2022</td>\n",
       "      <td>1</td>\n",
       "      <td>17</td>\n",
       "      <td>tablet</td>\n",
       "      <td>467.393957</td>\n",
       "      <td>8.865805</td>\n",
       "      <td>476.259762</td>\n",
       "    </tr>\n",
       "    <tr>\n",
       "      <th>3</th>\n",
       "      <td>Paulo</td>\n",
       "      <td>4</td>\n",
       "      <td>2022-01-26</td>\n",
       "      <td>202201</td>\n",
       "      <td>2022</td>\n",
       "      <td>1</td>\n",
       "      <td>26</td>\n",
       "      <td>pelicula</td>\n",
       "      <td>1001.749439</td>\n",
       "      <td>9.149199</td>\n",
       "      <td>1010.898638</td>\n",
       "    </tr>\n",
       "    <tr>\n",
       "      <th>4</th>\n",
       "      <td>Sandy</td>\n",
       "      <td>5</td>\n",
       "      <td>2022-01-12</td>\n",
       "      <td>202201</td>\n",
       "      <td>2022</td>\n",
       "      <td>1</td>\n",
       "      <td>12</td>\n",
       "      <td>cabo</td>\n",
       "      <td>1394.304542</td>\n",
       "      <td>6.959222</td>\n",
       "      <td>1401.263764</td>\n",
       "    </tr>\n",
       "  </tbody>\n",
       "</table>\n",
       "</div>"
      ],
      "text/plain": [
       "  usuario  id_compra       data  ano_mes_id   ano  mes  dia   produto  \\\n",
       "0  Sergio          1 2022-01-12      202201  2022    1   12   capinha   \n",
       "1    João          2 2022-01-26      202201  2022    1   26     mouse   \n",
       "2   Paulo          3 2022-01-17      202201  2022    1   17    tablet   \n",
       "3   Paulo          4 2022-01-26      202201  2022    1   26  pelicula   \n",
       "4   Sandy          5 2022-01-12      202201  2022    1   12      cabo   \n",
       "\n",
       "         valor      frete        total  \n",
       "0     4.463521   6.784318    11.247839  \n",
       "1  1172.596978  10.877619  1183.474597  \n",
       "2   467.393957   8.865805   476.259762  \n",
       "3  1001.749439   9.149199  1010.898638  \n",
       "4  1394.304542   6.959222  1401.263764  "
      ]
     },
     "execution_count": 58,
     "metadata": {},
     "output_type": "execute_result"
    }
   ],
   "source": [
    "# Passando a validação de tipos pelo df_certo\n",
    "schema.validate(df_certo).head()"
   ]
  },
  {
   "cell_type": "markdown",
   "metadata": {},
   "source": [
    "Vamos inserir erros no `df_errado` que no momento é uma cópia de `df_certo`."
   ]
  },
  {
   "cell_type": "code",
   "execution_count": 59,
   "metadata": {},
   "outputs": [
    {
     "name": "stdout",
     "output_type": "stream",
     "text": [
      "series 'id_compra' contains duplicate values: {1: 1}\n"
     ]
    }
   ],
   "source": [
    "# Duplicando um id_compra e validando\n",
    "df_errado[\"id_compra\"][1] = 1\n",
    "try:\n",
    "    schema.validate(df_errado).head()\n",
    "except Exception as e:\n",
    "    print(e)\n",
    "# Resetando\n",
    "df_errado = df_certo.copy()"
   ]
  },
  {
   "cell_type": "code",
   "execution_count": 60,
   "metadata": {},
   "outputs": [
    {
     "name": "stdout",
     "output_type": "stream",
     "text": [
      "<Schema DataFrameSchema(\n",
      "    columns={\n",
      "        'usuario': <Schema Column(name=usuario, type=DataType(str))>\n",
      "        'id_compra': <Schema Column(name=id_compra, type=DataType(int64))>\n",
      "        'data': <Schema Column(name=data, type=DataType(datetime64[ns]))>\n",
      "        'ano_mes_id': <Schema Column(name=ano_mes_id, type=DataType(int64))>\n",
      "        'ano': <Schema Column(name=ano, type=DataType(int64))>\n",
      "        'mes': <Schema Column(name=mes, type=DataType(int64))>\n",
      "        'dia': <Schema Column(name=dia, type=DataType(int64))>\n",
      "        'produto': <Schema Column(name=produto, type=DataType(str))>\n",
      "        'valor': <Schema Column(name=valor, type=DataType(float64))>\n",
      "        'frete': <Schema Column(name=frete, type=DataType(float64))>\n",
      "        'total': <Schema Column(name=total, type=DataType(float64))>\n",
      "    },\n",
      "    checks=[\n",
      "        <Check Valor total está errado>\n",
      "    ],\n",
      "    coerce=False,\n",
      "    dtype=None,\n",
      "    index=None,\n",
      "    strict=False\n",
      "    name=None,\n",
      "    ordered=False\n",
      ")> failed element-wise validator 0:\n",
      "<Check Valor total está errado>\n",
      "failure cases:\n",
      "        column  index         failure_case\n",
      "0      usuario     15                Paulo\n",
      "1    id_compra     15                   16\n",
      "2         data     15  2022-01-20 00:00:00\n",
      "3   ano_mes_id     15               202201\n",
      "4          ano     15                 2022\n",
      "5          mes     15                    1\n",
      "6          dia     15                   20\n",
      "7      produto     15             pelicula\n",
      "8        valor     15             97.38032\n",
      "9        frete     15             6.623869\n",
      "10       total     15                  0.0\n"
     ]
    }
   ],
   "source": [
    "# Duplicando um id_compra e validando\n",
    "df_errado[\"total\"][15] = 0.00\n",
    "try:\n",
    "    schema.validate(df_errado).head()\n",
    "except Exception as e:\n",
    "    print(e)\n",
    "# Resetando\n",
    "df_errado = df_certo.copy()"
   ]
  }
 ],
 "metadata": {
  "interpreter": {
   "hash": "916dbcbb3f70747c44a77c7bcd40155683ae19c65e1c03b4aa3499c5328201f1"
  },
  "kernelspec": {
   "display_name": "Python 3.8.10 64-bit",
   "language": "python",
   "name": "python3"
  },
  "language_info": {
   "codemirror_mode": {
    "name": "ipython",
    "version": 3
   },
   "file_extension": ".py",
   "mimetype": "text/x-python",
   "name": "python",
   "nbconvert_exporter": "python",
   "pygments_lexer": "ipython3",
   "version": "3.8.10"
  },
  "orig_nbformat": 4
 },
 "nbformat": 4,
 "nbformat_minor": 2
}
